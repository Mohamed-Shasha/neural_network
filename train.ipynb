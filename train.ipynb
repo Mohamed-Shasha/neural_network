{
 "cells": [
  {
   "cell_type": "code",
   "execution_count": 1,
   "id": "5427124b",
   "metadata": {
    "tags": []
   },
   "outputs": [
    {
     "name": "stderr",
     "output_type": "stream",
     "text": [
      "2023-03-31 19:09:54.494092: I tensorflow/tsl/cuda/cudart_stub.cc:28] Could not find cuda drivers on your machine, GPU will not be used.\n",
      "2023-03-31 19:09:54.527358: I tensorflow/tsl/cuda/cudart_stub.cc:28] Could not find cuda drivers on your machine, GPU will not be used.\n",
      "2023-03-31 19:09:54.527870: I tensorflow/core/platform/cpu_feature_guard.cc:182] This TensorFlow binary is optimized to use available CPU instructions in performance-critical operations.\n",
      "To enable the following instructions: AVX2 FMA, in other operations, rebuild TensorFlow with the appropriate compiler flags.\n",
      "2023-03-31 19:09:54.991238: W tensorflow/compiler/tf2tensorrt/utils/py_utils.cc:38] TF-TRT Warning: Could not find TensorRT\n"
     ]
    },
    {
     "name": "stdout",
     "output_type": "stream",
     "text": [
      "Tensorflow version 2.12.0\n"
     ]
    }
   ],
   "source": [
    "import numpy as np\n",
    "import pandas as pd\n",
    "import tensorflow as tf\n",
    "from keras.callbacks import CSVLogger\n",
    "from keras.models import Sequential\n",
    "from keras.layers.core import Dense\n",
    "from keras.optimizers import SGD\n",
    "from keras import backend\n",
    "import matplotlib.pyplot as plt\n",
    "import csv\n",
    "import pylab\n",
    "import time\n",
    "\n",
    "# Set the error log level - removes warning messages\n",
    "tf.get_logger().setLevel('ERROR')\n",
    "# Setup the figure size for plots\n",
    "pylab.rcParams['figure.figsize'] = (13.0, 5.0)\n",
    "\n",
    "# Setup some Globals\n",
    "# Acceptable model tolerance\n",
    "TOLERANCE = 0.1\n",
    "# Number of Epochs\n",
    "EPOCHS = 10\n",
    "# Print the tensorflow version\n",
    "print(\"Tensorflow version\",tf.__version__)"
   ]
  },
  {
   "cell_type": "code",
   "execution_count": 8,
   "id": "0dc2b39f",
   "metadata": {
    "tags": []
   },
   "outputs": [],
   "source": [
    "# Path to training or evaluation file\n",
    "INPUT_FILE = 'train.csv'\n",
    "# Path to model file - weights will be saved here\n",
    "MODEL_FILE = \"model\"\n",
    "# Model log file\n",
    "LOG_FILE = 'train-log.csv'\n",
    "# Array for the input features\n",
    "trainx = []\n",
    "# Array for the output labels/features\n",
    "trainy = []\n",
    "\n",
    "# Load inputs and labels from disk\n",
    "# NOTE: assumes 2 inputs followed by 1 label\n",
    "# NOTE: files assumed to be located in a data directory\n",
    "with open(INPUT_FILE, 'r') as csvfile:\n",
    "    input_data = csv.reader(csvfile, delimiter=',')\n",
    "    for row in input_data:\n",
    "        trainx.append([float(row[0]), float(row[1]),float(row[2]),float(row[3])])\n",
    "        trainy.append([float(row[4])])\n",
    "\n",
    "# the four different states of the XOR gate\n",
    "training_data = np.array(trainx, \"float32\")\n",
    "# the four expected results in the same order\n",
    "target_data = np.array(trainy, \"float32\")\n",
    "\n",
    "# print('Training inputs ', trainx)\n",
    "# print('Desired outputs ', trainy)"
   ]
  },
  {
   "cell_type": "code",
   "execution_count": 9,
   "id": "9fdbfa60",
   "metadata": {
    "tags": []
   },
   "outputs": [],
   "source": [
    "# Clear any exiting network models\n",
    "backend.clear_session()\n",
    "# Setup a standard feed-forward network\n",
    "model = Sequential()\n",
    "# Setup the input layer 4 inputs with 10 connections to hidden nodes\n",
    "# The threshold function used will be sigmoid\n",
    "model.add(Dense(10, input_dim=4, activation='sigmoid', use_bias=True))\n",
    "# Setup the output layer with 1 node using sigmoid\n",
    "model.add(Dense(1, activation='sigmoid'))\n",
    "# Setup the learning algorithm - Standard Gradient Descent with learning rate and momentum\n",
    "opt = SGD(learning_rate=0.45, momentum=0.7)\n",
    "# Compile/build the model\n",
    "model.compile(optimizer= opt, loss='mse', metrics=['accuracy'])"
   ]
  },
  {
   "cell_type": "code",
   "execution_count": 10,
   "id": "81673fac",
   "metadata": {
    "tags": []
   },
   "outputs": [
    {
     "name": "stdout",
     "output_type": "stream",
     "text": [
      "Training finished...in  0.6584556102752686  seconds.\n"
     ]
    }
   ],
   "source": [
    "# Setup a log file for the model metrics error and accuracy\n",
    "csv_logger = CSVLogger('train-log.csv')\n",
    "# Start a timer to time the training\n",
    "start = time.time()\n",
    "# Train the model\n",
    "model.fit(training_data, target_data, epochs=EPOCHS, verbose=0, callbacks=[csv_logger])\n",
    "# End the timer\n",
    "end = time.time() - start\n",
    "print(\"Training finished...in \", end, \" seconds.\")\n",
    "# Save the model to file\n",
    "model.save(MODEL_FILE)"
   ]
  },
  {
   "cell_type": "code",
   "execution_count": 5,
   "id": "12288946",
   "metadata": {
    "tags": []
   },
   "outputs": [
    {
     "name": "stdout",
     "output_type": "stream",
     "text": [
      "125/125 [==============================] - 0s 428us/step\n",
      "[[0.96497995]\n",
      " [0.00898446]\n",
      " [0.98249984]\n",
      " ...\n",
      " [0.00865042]\n",
      " [0.01311436]\n",
      " [0.97772926]]\n"
     ]
    }
   ],
   "source": [
    "print(model.predict(training_data))\n"
   ]
  },
  {
   "cell_type": "code",
   "execution_count": 7,
   "id": "6ef527c4",
   "metadata": {
    "tags": []
   },
   "outputs": [
    {
     "data": {
      "image/png": "[encoded data removed]",
      "text/plain": [
       "<Figure size 1300x500 with 1 Axes>"
      ]
     },
     "metadata": {},
     "output_type": "display_data"
    }
   ],
   "source": [
    "# Load the training log file and graph the reduction in error/loss\n",
    "import pandas as pd\n",
    "import matplotlib.pyplot as plt\n",
    "\n",
    "training_df = pd.read_csv('train-log.csv')\n",
    "\n",
    "# Plot the model error during training\n",
    "ax = training_df['loss'].plot(title='Training loss MSE')\n",
    "ax.set_xlabel('Epoch')\n",
    "ax.set_ylabel('Loss')\n",
    "plt.savefig(\"training_mse.pdf\")"
   ]
  },
  {
   "cell_type": "code",
   "execution_count": null,
   "id": "d55a9750",
   "metadata": {},
   "outputs": [],
   "source": []
  },
  {
   "cell_type": "code",
   "execution_count": null,
   "id": "de03c0b0",
   "metadata": {},
   "outputs": [],
   "source": []
  }
 ],
 "metadata": {
  "kernelspec": {
   "display_name": "Python 3 (ipykernel)",
   "language": "python",
   "name": "python3"
  },
  "language_info": {
   "codemirror_mode": {
    "name": "ipython",
    "version": 3
   },
   "file_extension": ".py",
   "mimetype": "text/x-python",
   "name": "python",
   "nbconvert_exporter": "python",
   "pygments_lexer": "ipython3",
   "version": "3.10.6"
  }
 },
 "nbformat": 4,
 "nbformat_minor": 5
}
